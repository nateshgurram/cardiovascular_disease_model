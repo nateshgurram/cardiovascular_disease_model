{
 "cells": [
  {
   "cell_type": "code",
   "execution_count": 3,
   "id": "53b53c66-d542-4092-85ce-8bc5f1fb4dcb",
   "metadata": {},
   "outputs": [],
   "source": [
    "import pickle\n",
    "import pandas as pd\n",
    "import numpy as np\n",
    "import matplotlib.pyplot as plt\n",
    "import seaborn as sns\n",
    "from sklearn.metrics import accuracy_score, precision_score, recall_score, f1_score\n",
    "from sklearn.inspection import permutation_importance"
   ]
  },
  {
   "cell_type": "code",
   "execution_count": 2,
   "id": "449b02f9-765d-434c-961b-ed5d5aaa65b8",
   "metadata": {},
   "outputs": [],
   "source": [
    "def bool_to_int(df):\n",
    "    df_convert = df.copy()\n",
    "    for col in df_convert.columns:\n",
    "        if df_convert[col].dtype == bool:\n",
    "            df_convert[col] = df_convert[col].astype(int)\n",
    "    return df_convert"
   ]
  },
  {
   "cell_type": "code",
   "execution_count": 3,
   "id": "abd0d86a-d4cb-44bf-b39f-27ac8819432a",
   "metadata": {},
   "outputs": [],
   "source": [
    "def export_model_results(y_test, y_pred, model_name, filename):\n",
    "    model_results = {\n",
    "        'model': model_name,\n",
    "        'accuracy': accuracy_score(y_test, y_pred),\n",
    "        'precision': precision_score(y_test, y_pred),\n",
    "        'recall': recall_score(y_test, y_pred),\n",
    "        'f1_score': f1_score(y_test, y_pred)\n",
    "    }\n",
    "\n",
    "    with open(filename, 'wb') as f:\n",
    "        pickle.dump(model_results, f)"
   ]
  },
  {
   "cell_type": "code",
   "execution_count": 4,
   "id": "c1a6e858-7949-4ef2-adfc-89ce20b8976e",
   "metadata": {},
   "outputs": [],
   "source": [
    "def export_tree_feature_importances(model, feature_names, model_name):\n",
    "    importances = model.feature_importances_\n",
    "    feature_df = pd.DataFrame({'Feature': feature_names, 'Importance': importances})\n",
    "    feature_df = feature_df.sort_values(by='Importance', ascending=False)\n",
    "\n",
    "    with open(f\"feature_importances/{model_name}_feature_importance.pkl\", \"wb\") as f:\n",
    "        pickle.dump(feature_df, f)"
   ]
  },
  {
   "cell_type": "code",
   "execution_count": 5,
   "id": "3ac6a4a8-83fc-4557-bfc6-edd83aa31437",
   "metadata": {},
   "outputs": [],
   "source": [
    "def export_logreg_coefficients(model, feature_names, model_name):\n",
    "    coefs = model.coef_[0]\n",
    "    coef_df = pd.DataFrame({'Feature': feature_names, 'Coefficient': coefs})\n",
    "    coef_df['Abs_Coefficient'] = coef_df['Coefficient'].abs()\n",
    "    coef_df = coef_df.sort_values(by='Abs_Coefficient', ascending=False)\n",
    "\n",
    "    with open(f\"feature_importances/{model_name}_coefficients.pkl\", \"wb\") as f:\n",
    "        pickle.dump(coef_df, f)"
   ]
  },
  {
   "cell_type": "code",
   "execution_count": 17,
   "id": "5109bf0f-2e7d-4b21-a782-42030b1240ad",
   "metadata": {},
   "outputs": [],
   "source": [
    "def export_permutation_importance(model, X_test, y_test, feature_names, model_name):\n",
    "    X_sample = X_test.sample(1000, random_state=42)\n",
    "    y_sample = y_test.loc[X_sample.index]\n",
    "    \n",
    "    result = permutation_importance(model, X_sample, y_sample, n_repeats=2, random_state=42)\n",
    "    df_perm = pd.DataFrame({'Feature': feature_names, 'Importance': result.importances_mean})\n",
    "    df_perm = df_perm.sort_values(by='Importance', ascending=False)\n",
    "\n",
    "    with open(f\"feature_importances/{model_name}_permutation.pkl\", \"wb\") as f:\n",
    "        pickle.dump(df_perm, f)"
   ]
  },
  {
   "cell_type": "code",
   "execution_count": 5,
   "id": "4402347f-9df5-467c-ada2-0f13fd447baa",
   "metadata": {},
   "outputs": [],
   "source": [
    "def plot_logreg_coefficients(model, feature_names, title='Logistic Regression Coefficients'):\n",
    "    coefs = model.coef_[0]\n",
    "    coef_series = pd.Series(coefs, index=feature_names).sort_values(ascending=False)\n",
    "\n",
    "    plt.figure(figsize=(10,6), dpi=200)\n",
    "    sns.barplot(x=coef_series.index, y=coef_series.values)\n",
    "    plt.xticks(rotation=90)\n",
    "    plt.title(title)\n",
    "    plt.ylabel(\"Coefficient\")\n",
    "    plt.xlabel(\"\")\n",
    "    plt.tight_layout()\n",
    "    "
   ]
  },
  {
   "cell_type": "code",
   "execution_count": 18,
   "id": "48f7e770-99e6-48ba-9cdd-e42fd3051837",
   "metadata": {},
   "outputs": [],
   "source": [
    "def plot_permutation_importance(model, X_test, y_test, feature_names, title=\"Permutation Importance\"):\n",
    "    X_sample = X_test.sample(1000, random_state=42)\n",
    "    y_sample = y_test.loc[X_sample.index]\n",
    "    \n",
    "    result = permutation_importance(model, X_sample, y_sample, n_repeats=2, random_state=42)\n",
    "    perm_series = pd.Series(result.importances_mean, index=feature_names).sort_values(ascending=False)\n",
    "\n",
    "    plt.figure(figsize=(10,6), dpi=200)\n",
    "    sns.barplot(x=perm_series.index, y=perm_series.values)\n",
    "    plt.xticks(rotation=90)\n",
    "    plt.title(title)\n",
    "    plt.ylabel(\"Mean Importance Drop\")\n",
    "    plt.xlabel(\"\")\n",
    "    plt.tight_layout()"
   ]
  },
  {
   "cell_type": "code",
   "execution_count": 4,
   "id": "9c3cfd09-5851-4e14-b1f4-c6a79d12c136",
   "metadata": {},
   "outputs": [],
   "source": [
    "def plot_tree_feature_importance(model, feature_names, title='Feature Importance'):\n",
    "    importances = model.feature_importances_\n",
    "    imp_series = pd.Series(importances, index=feature_names).sort_values(ascending=False)\n",
    "\n",
    "    plt.figure(figsize=(10,6), dpi=200)\n",
    "    sns.barplot(x=imp_series.index, y=imp_series.values)\n",
    "    plt.xticks(rotation=90)\n",
    "    plt.title(title)\n",
    "    plt.ylabel('Importance')\n",
    "    plt.xlabel(\"\")\n",
    "    plt.tight_layout()"
   ]
  },
  {
   "cell_type": "code",
   "execution_count": 8,
   "id": "39b68c7f-2529-46da-837c-66eb9c65f26c",
   "metadata": {},
   "outputs": [],
   "source": [
    "def plot_model_importances(dictionary, model_name, importance_type='importance'):\n",
    "    untuned = dictionary['untuned'].copy()\n",
    "    tuned = dictionary['tuned'].copy()\n",
    "    \n",
    "    untuned['Model'] = 'Untuned'\n",
    "    tuned['Model'] = 'Tuned'\n",
    "    \n",
    "    combined = pd.concat([untuned, tuned])\n",
    "\n",
    "    feature_col = None\n",
    "    for col in combined.columns:\n",
    "        if 'feature' in col.lower():\n",
    "            feature_col = col\n",
    "            break\n",
    "\n",
    "    feature_order = (combined.groupby(feature_col)[importance_type].mean().sort_values(ascending=False).index)\n",
    "    combined[feature_col] = pd.Categorical(combined[feature_col], categories=feature_order, ordered=True)\n",
    "\n",
    "    plt.figure(figsize=(12,6), dpi=200)\n",
    "    sns.barplot(data=combined, y=feature_col, x=importance_type, hue='Model')\n",
    "    plt.xlabel(importance_type)\n",
    "    plt.ylabel('Feature')\n",
    "    plt.tight_layout()\n",
    "    "
   ]
  },
  {
   "cell_type": "code",
   "execution_count": null,
   "id": "4e758178-0357-4695-99e8-a53edad66641",
   "metadata": {},
   "outputs": [],
   "source": []
  }
 ],
 "metadata": {
  "kernelspec": {
   "display_name": "Python 3 (ipykernel)",
   "language": "python",
   "name": "python3"
  },
  "language_info": {
   "codemirror_mode": {
    "name": "ipython",
    "version": 3
   },
   "file_extension": ".py",
   "mimetype": "text/x-python",
   "name": "python",
   "nbconvert_exporter": "python",
   "pygments_lexer": "ipython3",
   "version": "3.12.7"
  }
 },
 "nbformat": 4,
 "nbformat_minor": 5
}
